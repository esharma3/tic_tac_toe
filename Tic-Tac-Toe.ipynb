{
 "cells": [
  {
   "cell_type": "markdown",
   "metadata": {},
   "source": [
    "# Welcome to the game of TIC TAC TOE"
   ]
  },
  {
   "cell_type": "code",
   "execution_count": 4,
   "metadata": {},
   "outputs": [
    {
     "name": "stdout",
     "output_type": "stream",
     "text": [
      "The nb_black extension is already loaded. To reload it, use:\n",
      "  %reload_ext nb_black\n"
     ]
    },
    {
     "data": {
      "application/javascript": [
       "\n",
       "            setTimeout(function() {\n",
       "                var nbb_cell_id = 4;\n",
       "                var nbb_unformatted_code = \"import random\\nfrom IPython.display import clear_output\\n\\n%load_ext nb_black\";\n",
       "                var nbb_formatted_code = \"import random\\nfrom IPython.display import clear_output\\n\\n%load_ext nb_black\";\n",
       "                var nbb_cells = Jupyter.notebook.get_cells();\n",
       "                for (var i = 0; i < nbb_cells.length; ++i) {\n",
       "                    if (nbb_cells[i].input_prompt_number == nbb_cell_id) {\n",
       "                        if (nbb_cells[i].get_text() == nbb_unformatted_code) {\n",
       "                             nbb_cells[i].set_text(nbb_formatted_code);\n",
       "                        }\n",
       "                        break;\n",
       "                    }\n",
       "                }\n",
       "            }, 500);\n",
       "            "
      ],
      "text/plain": [
       "<IPython.core.display.Javascript object>"
      ]
     },
     "metadata": {},
     "output_type": "display_data"
    }
   ],
   "source": [
    "import random\n",
    "from IPython.display import clear_output\n",
    "\n",
    "%load_ext nb_black"
   ]
  },
  {
   "cell_type": "markdown",
   "metadata": {},
   "source": [
    "#### Function to print out the board. "
   ]
  },
  {
   "cell_type": "code",
   "execution_count": 5,
   "metadata": {},
   "outputs": [
    {
     "data": {
      "application/javascript": [
       "\n",
       "            setTimeout(function() {\n",
       "                var nbb_cell_id = 5;\n",
       "                var nbb_unformatted_code = \"def display_board(board):\\n\\n    clear_output()\\n\\n    print(board[7] + \\\" | \\\" + board[8] + \\\" | \\\" + board[9])\\n    print(\\\"---------\\\")\\n    print(board[4] + \\\" | \\\" + board[5] + \\\" | \\\" + board[6])\\n    print(\\\"---------\\\")\\n    print(board[1] + \\\" | \\\" + board[2] + \\\" | \\\" + board[3])\";\n",
       "                var nbb_formatted_code = \"def display_board(board):\\n\\n    clear_output()\\n\\n    print(board[7] + \\\" | \\\" + board[8] + \\\" | \\\" + board[9])\\n    print(\\\"---------\\\")\\n    print(board[4] + \\\" | \\\" + board[5] + \\\" | \\\" + board[6])\\n    print(\\\"---------\\\")\\n    print(board[1] + \\\" | \\\" + board[2] + \\\" | \\\" + board[3])\";\n",
       "                var nbb_cells = Jupyter.notebook.get_cells();\n",
       "                for (var i = 0; i < nbb_cells.length; ++i) {\n",
       "                    if (nbb_cells[i].input_prompt_number == nbb_cell_id) {\n",
       "                        if (nbb_cells[i].get_text() == nbb_unformatted_code) {\n",
       "                             nbb_cells[i].set_text(nbb_formatted_code);\n",
       "                        }\n",
       "                        break;\n",
       "                    }\n",
       "                }\n",
       "            }, 500);\n",
       "            "
      ],
      "text/plain": [
       "<IPython.core.display.Javascript object>"
      ]
     },
     "metadata": {},
     "output_type": "display_data"
    }
   ],
   "source": [
    "def display_board(board):\n",
    "\n",
    "    clear_output()\n",
    "\n",
    "    print(board[7] + \" | \" + board[8] + \" | \" + board[9])\n",
    "    print(\"---------\")\n",
    "    print(board[4] + \" | \" + board[5] + \" | \" + board[6])\n",
    "    print(\"---------\")\n",
    "    print(board[1] + \" | \" + board[2] + \" | \" + board[3])"
   ]
  },
  {
   "cell_type": "code",
   "execution_count": 6,
   "metadata": {},
   "outputs": [
    {
     "name": "stdout",
     "output_type": "stream",
     "text": [
      "X | O | X\n",
      "---------\n",
      "O | X | O\n",
      "---------\n",
      "X | O | X\n"
     ]
    },
    {
     "data": {
      "application/javascript": [
       "\n",
       "            setTimeout(function() {\n",
       "                var nbb_cell_id = 6;\n",
       "                var nbb_unformatted_code = \"# testing the function\\ntest_board = [\\\"#\\\", \\\"X\\\", \\\"O\\\", \\\"X\\\", \\\"O\\\", \\\"X\\\", \\\"O\\\", \\\"X\\\", \\\"O\\\", \\\"X\\\"]\\ndisplay_board(test_board)\";\n",
       "                var nbb_formatted_code = \"# testing the function\\ntest_board = [\\\"#\\\", \\\"X\\\", \\\"O\\\", \\\"X\\\", \\\"O\\\", \\\"X\\\", \\\"O\\\", \\\"X\\\", \\\"O\\\", \\\"X\\\"]\\ndisplay_board(test_board)\";\n",
       "                var nbb_cells = Jupyter.notebook.get_cells();\n",
       "                for (var i = 0; i < nbb_cells.length; ++i) {\n",
       "                    if (nbb_cells[i].input_prompt_number == nbb_cell_id) {\n",
       "                        if (nbb_cells[i].get_text() == nbb_unformatted_code) {\n",
       "                             nbb_cells[i].set_text(nbb_formatted_code);\n",
       "                        }\n",
       "                        break;\n",
       "                    }\n",
       "                }\n",
       "            }, 500);\n",
       "            "
      ],
      "text/plain": [
       "<IPython.core.display.Javascript object>"
      ]
     },
     "metadata": {},
     "output_type": "display_data"
    }
   ],
   "source": [
    "# testing the function\n",
    "test_board = [\"#\", \"X\", \"O\", \"X\", \"O\", \"X\", \"O\", \"X\", \"O\", \"X\"]\n",
    "display_board(test_board)"
   ]
  },
  {
   "cell_type": "markdown",
   "metadata": {},
   "source": [
    "#### Function for player input."
   ]
  },
  {
   "cell_type": "code",
   "execution_count": 7,
   "metadata": {},
   "outputs": [
    {
     "data": {
      "application/javascript": [
       "\n",
       "            setTimeout(function() {\n",
       "                var nbb_cell_id = 7;\n",
       "                var nbb_unformatted_code = \"def player_input():\\n\\n    marker = \\\"\\\"\\n\\n    while not (marker == \\\"X\\\" or marker == \\\"O\\\"):\\n        marker = input(\\\"Player 1: Do you want to be X or O? - \\\").upper()\\n\\n    if marker == \\\"X\\\":\\n        return (\\\"X\\\", \\\"O\\\")\\n    else:\\n        return (\\\"O\\\", \\\"X\\\")\";\n",
       "                var nbb_formatted_code = \"def player_input():\\n\\n    marker = \\\"\\\"\\n\\n    while not (marker == \\\"X\\\" or marker == \\\"O\\\"):\\n        marker = input(\\\"Player 1: Do you want to be X or O? - \\\").upper()\\n\\n    if marker == \\\"X\\\":\\n        return (\\\"X\\\", \\\"O\\\")\\n    else:\\n        return (\\\"O\\\", \\\"X\\\")\";\n",
       "                var nbb_cells = Jupyter.notebook.get_cells();\n",
       "                for (var i = 0; i < nbb_cells.length; ++i) {\n",
       "                    if (nbb_cells[i].input_prompt_number == nbb_cell_id) {\n",
       "                        if (nbb_cells[i].get_text() == nbb_unformatted_code) {\n",
       "                             nbb_cells[i].set_text(nbb_formatted_code);\n",
       "                        }\n",
       "                        break;\n",
       "                    }\n",
       "                }\n",
       "            }, 500);\n",
       "            "
      ],
      "text/plain": [
       "<IPython.core.display.Javascript object>"
      ]
     },
     "metadata": {},
     "output_type": "display_data"
    }
   ],
   "source": [
    "def player_input():\n",
    "\n",
    "    marker = \"\"\n",
    "\n",
    "    while not (marker == \"X\" or marker == \"O\"):\n",
    "        marker = input(\"Player 1: Do you want to be X or O? - \").upper()\n",
    "\n",
    "    if marker == \"X\":\n",
    "        return (\"X\", \"O\")\n",
    "    else:\n",
    "        return (\"O\", \"X\")"
   ]
  },
  {
   "cell_type": "code",
   "execution_count": 8,
   "metadata": {},
   "outputs": [
    {
     "name": "stdout",
     "output_type": "stream",
     "text": [
      "Player 1: Do you want to be X or O? - \n",
      "Player 1: Do you want to be X or O? - o\n"
     ]
    },
    {
     "data": {
      "text/plain": [
       "('O', 'X')"
      ]
     },
     "execution_count": 8,
     "metadata": {},
     "output_type": "execute_result"
    },
    {
     "data": {
      "application/javascript": [
       "\n",
       "            setTimeout(function() {\n",
       "                var nbb_cell_id = 8;\n",
       "                var nbb_unformatted_code = \"# testing the player input function\\nplayer_input()\";\n",
       "                var nbb_formatted_code = \"# testing the player input function\\nplayer_input()\";\n",
       "                var nbb_cells = Jupyter.notebook.get_cells();\n",
       "                for (var i = 0; i < nbb_cells.length; ++i) {\n",
       "                    if (nbb_cells[i].input_prompt_number == nbb_cell_id) {\n",
       "                        if (nbb_cells[i].get_text() == nbb_unformatted_code) {\n",
       "                             nbb_cells[i].set_text(nbb_formatted_code);\n",
       "                        }\n",
       "                        break;\n",
       "                    }\n",
       "                }\n",
       "            }, 500);\n",
       "            "
      ],
      "text/plain": [
       "<IPython.core.display.Javascript object>"
      ]
     },
     "metadata": {},
     "output_type": "display_data"
    }
   ],
   "source": [
    "# testing the player input function\n",
    "player_input()"
   ]
  },
  {
   "cell_type": "markdown",
   "metadata": {},
   "source": [
    "#### Function to accept board list object, a marker ('X' or 'O'), and a desired position (number 1-9) and assigns it to the board."
   ]
  },
  {
   "cell_type": "code",
   "execution_count": 9,
   "metadata": {},
   "outputs": [
    {
     "data": {
      "application/javascript": [
       "\n",
       "            setTimeout(function() {\n",
       "                var nbb_cell_id = 9;\n",
       "                var nbb_unformatted_code = \"def place_marker(board, marker, position):\\n    board[position] = marker    \";\n",
       "                var nbb_formatted_code = \"def place_marker(board, marker, position):\\n    board[position] = marker\";\n",
       "                var nbb_cells = Jupyter.notebook.get_cells();\n",
       "                for (var i = 0; i < nbb_cells.length; ++i) {\n",
       "                    if (nbb_cells[i].input_prompt_number == nbb_cell_id) {\n",
       "                        if (nbb_cells[i].get_text() == nbb_unformatted_code) {\n",
       "                             nbb_cells[i].set_text(nbb_formatted_code);\n",
       "                        }\n",
       "                        break;\n",
       "                    }\n",
       "                }\n",
       "            }, 500);\n",
       "            "
      ],
      "text/plain": [
       "<IPython.core.display.Javascript object>"
      ]
     },
     "metadata": {},
     "output_type": "display_data"
    }
   ],
   "source": [
    "def place_marker(board, marker, position):\n",
    "    board[position] = marker"
   ]
  },
  {
   "cell_type": "code",
   "execution_count": 10,
   "metadata": {},
   "outputs": [
    {
     "name": "stdout",
     "output_type": "stream",
     "text": [
      "X | $ | X\n",
      "---------\n",
      "O | X | O\n",
      "---------\n",
      "X | O | X\n"
     ]
    },
    {
     "data": {
      "application/javascript": [
       "\n",
       "            setTimeout(function() {\n",
       "                var nbb_cell_id = 10;\n",
       "                var nbb_unformatted_code = \"# testing the place marker function\\nplace_marker(test_board,'$',8)\\ndisplay_board(test_board)\";\n",
       "                var nbb_formatted_code = \"# testing the place marker function\\nplace_marker(test_board, \\\"$\\\", 8)\\ndisplay_board(test_board)\";\n",
       "                var nbb_cells = Jupyter.notebook.get_cells();\n",
       "                for (var i = 0; i < nbb_cells.length; ++i) {\n",
       "                    if (nbb_cells[i].input_prompt_number == nbb_cell_id) {\n",
       "                        if (nbb_cells[i].get_text() == nbb_unformatted_code) {\n",
       "                             nbb_cells[i].set_text(nbb_formatted_code);\n",
       "                        }\n",
       "                        break;\n",
       "                    }\n",
       "                }\n",
       "            }, 500);\n",
       "            "
      ],
      "text/plain": [
       "<IPython.core.display.Javascript object>"
      ]
     },
     "metadata": {},
     "output_type": "display_data"
    }
   ],
   "source": [
    "# testing the place marker function\n",
    "place_marker(test_board, \"$\", 8)\n",
    "display_board(test_board)"
   ]
  },
  {
   "cell_type": "markdown",
   "metadata": {},
   "source": [
    "#### Function that takes in a board and a mark (X or O) and checks to see if that mark has won."
   ]
  },
  {
   "cell_type": "code",
   "execution_count": 11,
   "metadata": {},
   "outputs": [
    {
     "data": {
      "application/javascript": [
       "\n",
       "            setTimeout(function() {\n",
       "                var nbb_cell_id = 11;\n",
       "                var nbb_unformatted_code = \"def win_check(board, mark):\\n    \\n    return((board[7] == mark and board[8] == mark and board[9] == mark) or\\n          (board[4] == mark and board[5] == mark and board[6] == mark) or\\n          (board[1] == mark and board[2] == mark and board[3] == mark) or\\n          (board[1] == mark and board[5] == mark and board[9] == mark) or\\n          (board[3] == mark and board[5] == mark and board[7] == mark) or \\n          (board[1] == mark and board[4] == mark and board[7] == mark) or\\n          (board[2] == mark and board[5] == mark and board[8] == mark) or\\n          (board[3] == mark and board[6] == mark and board[9] == mark)) \";\n",
       "                var nbb_formatted_code = \"def win_check(board, mark):\\n\\n    return (\\n        (board[7] == mark and board[8] == mark and board[9] == mark)\\n        or (board[4] == mark and board[5] == mark and board[6] == mark)\\n        or (board[1] == mark and board[2] == mark and board[3] == mark)\\n        or (board[1] == mark and board[5] == mark and board[9] == mark)\\n        or (board[3] == mark and board[5] == mark and board[7] == mark)\\n        or (board[1] == mark and board[4] == mark and board[7] == mark)\\n        or (board[2] == mark and board[5] == mark and board[8] == mark)\\n        or (board[3] == mark and board[6] == mark and board[9] == mark)\\n    )\";\n",
       "                var nbb_cells = Jupyter.notebook.get_cells();\n",
       "                for (var i = 0; i < nbb_cells.length; ++i) {\n",
       "                    if (nbb_cells[i].input_prompt_number == nbb_cell_id) {\n",
       "                        if (nbb_cells[i].get_text() == nbb_unformatted_code) {\n",
       "                             nbb_cells[i].set_text(nbb_formatted_code);\n",
       "                        }\n",
       "                        break;\n",
       "                    }\n",
       "                }\n",
       "            }, 500);\n",
       "            "
      ],
      "text/plain": [
       "<IPython.core.display.Javascript object>"
      ]
     },
     "metadata": {},
     "output_type": "display_data"
    }
   ],
   "source": [
    "def win_check(board, mark):\n",
    "\n",
    "    return (\n",
    "        (board[7] == mark and board[8] == mark and board[9] == mark)\n",
    "        or (board[4] == mark and board[5] == mark and board[6] == mark)\n",
    "        or (board[1] == mark and board[2] == mark and board[3] == mark)\n",
    "        or (board[1] == mark and board[5] == mark and board[9] == mark)\n",
    "        or (board[3] == mark and board[5] == mark and board[7] == mark)\n",
    "        or (board[1] == mark and board[4] == mark and board[7] == mark)\n",
    "        or (board[2] == mark and board[5] == mark and board[8] == mark)\n",
    "        or (board[3] == mark and board[6] == mark and board[9] == mark)\n",
    "    )"
   ]
  },
  {
   "cell_type": "code",
   "execution_count": 12,
   "metadata": {},
   "outputs": [
    {
     "data": {
      "text/plain": [
       "True"
      ]
     },
     "execution_count": 12,
     "metadata": {},
     "output_type": "execute_result"
    },
    {
     "data": {
      "application/javascript": [
       "\n",
       "            setTimeout(function() {\n",
       "                var nbb_cell_id = 12;\n",
       "                var nbb_unformatted_code = \"# testing the win check function\\nwin_check(test_board,'X')\";\n",
       "                var nbb_formatted_code = \"# testing the win check function\\nwin_check(test_board, \\\"X\\\")\";\n",
       "                var nbb_cells = Jupyter.notebook.get_cells();\n",
       "                for (var i = 0; i < nbb_cells.length; ++i) {\n",
       "                    if (nbb_cells[i].input_prompt_number == nbb_cell_id) {\n",
       "                        if (nbb_cells[i].get_text() == nbb_unformatted_code) {\n",
       "                             nbb_cells[i].set_text(nbb_formatted_code);\n",
       "                        }\n",
       "                        break;\n",
       "                    }\n",
       "                }\n",
       "            }, 500);\n",
       "            "
      ],
      "text/plain": [
       "<IPython.core.display.Javascript object>"
      ]
     },
     "metadata": {},
     "output_type": "display_data"
    }
   ],
   "source": [
    "# testing the win check function\n",
    "win_check(test_board, \"X\")"
   ]
  },
  {
   "cell_type": "markdown",
   "metadata": {},
   "source": [
    "#### Function to randomly decide which player goes first."
   ]
  },
  {
   "cell_type": "code",
   "execution_count": 13,
   "metadata": {},
   "outputs": [
    {
     "data": {
      "application/javascript": [
       "\n",
       "            setTimeout(function() {\n",
       "                var nbb_cell_id = 13;\n",
       "                var nbb_unformatted_code = \"def choose_first():\\n    \\n    if random.randint(0,1) == 0:\\n        return 'Player 2'\\n    else:\\n        return 'Player 1'\";\n",
       "                var nbb_formatted_code = \"def choose_first():\\n\\n    if random.randint(0, 1) == 0:\\n        return \\\"Player 2\\\"\\n    else:\\n        return \\\"Player 1\\\"\";\n",
       "                var nbb_cells = Jupyter.notebook.get_cells();\n",
       "                for (var i = 0; i < nbb_cells.length; ++i) {\n",
       "                    if (nbb_cells[i].input_prompt_number == nbb_cell_id) {\n",
       "                        if (nbb_cells[i].get_text() == nbb_unformatted_code) {\n",
       "                             nbb_cells[i].set_text(nbb_formatted_code);\n",
       "                        }\n",
       "                        break;\n",
       "                    }\n",
       "                }\n",
       "            }, 500);\n",
       "            "
      ],
      "text/plain": [
       "<IPython.core.display.Javascript object>"
      ]
     },
     "metadata": {},
     "output_type": "display_data"
    }
   ],
   "source": [
    "def choose_first():\n",
    "\n",
    "    if random.randint(0, 1) == 0:\n",
    "        return \"Player 2\"\n",
    "    else:\n",
    "        return \"Player 1\""
   ]
  },
  {
   "cell_type": "markdown",
   "metadata": {},
   "source": [
    "#### Function to check if a space on the board is free."
   ]
  },
  {
   "cell_type": "code",
   "execution_count": 14,
   "metadata": {},
   "outputs": [
    {
     "data": {
      "application/javascript": [
       "\n",
       "            setTimeout(function() {\n",
       "                var nbb_cell_id = 14;\n",
       "                var nbb_unformatted_code = \"def space_check(board, position):\\n    \\n    return board[position] == ' '\";\n",
       "                var nbb_formatted_code = \"def space_check(board, position):\\n\\n    return board[position] == \\\" \\\"\";\n",
       "                var nbb_cells = Jupyter.notebook.get_cells();\n",
       "                for (var i = 0; i < nbb_cells.length; ++i) {\n",
       "                    if (nbb_cells[i].input_prompt_number == nbb_cell_id) {\n",
       "                        if (nbb_cells[i].get_text() == nbb_unformatted_code) {\n",
       "                             nbb_cells[i].set_text(nbb_formatted_code);\n",
       "                        }\n",
       "                        break;\n",
       "                    }\n",
       "                }\n",
       "            }, 500);\n",
       "            "
      ],
      "text/plain": [
       "<IPython.core.display.Javascript object>"
      ]
     },
     "metadata": {},
     "output_type": "display_data"
    }
   ],
   "source": [
    "def space_check(board, position):\n",
    "\n",
    "    return board[position] == \" \""
   ]
  },
  {
   "cell_type": "markdown",
   "metadata": {},
   "source": [
    "#### Function to check if the board is full."
   ]
  },
  {
   "cell_type": "code",
   "execution_count": 15,
   "metadata": {},
   "outputs": [
    {
     "data": {
      "application/javascript": [
       "\n",
       "            setTimeout(function() {\n",
       "                var nbb_cell_id = 15;\n",
       "                var nbb_unformatted_code = \"def full_board_check(board):    \\n    for i in range(1,10):\\n        if space_check(board,i):\\n            return False\\n    return True\\n        \";\n",
       "                var nbb_formatted_code = \"def full_board_check(board):\\n    for i in range(1, 10):\\n        if space_check(board, i):\\n            return False\\n    return True\";\n",
       "                var nbb_cells = Jupyter.notebook.get_cells();\n",
       "                for (var i = 0; i < nbb_cells.length; ++i) {\n",
       "                    if (nbb_cells[i].input_prompt_number == nbb_cell_id) {\n",
       "                        if (nbb_cells[i].get_text() == nbb_unformatted_code) {\n",
       "                             nbb_cells[i].set_text(nbb_formatted_code);\n",
       "                        }\n",
       "                        break;\n",
       "                    }\n",
       "                }\n",
       "            }, 500);\n",
       "            "
      ],
      "text/plain": [
       "<IPython.core.display.Javascript object>"
      ]
     },
     "metadata": {},
     "output_type": "display_data"
    }
   ],
   "source": [
    "def full_board_check(board):\n",
    "    for i in range(1, 10):\n",
    "        if space_check(board, i):\n",
    "            return False\n",
    "    return True"
   ]
  },
  {
   "cell_type": "markdown",
   "metadata": {},
   "source": [
    "#### Function that asks for a player's next position (as a number 1-9) and then uses the function from step 6 to check if it's a free position. If it is, then return the position for later use."
   ]
  },
  {
   "cell_type": "code",
   "execution_count": 16,
   "metadata": {},
   "outputs": [
    {
     "data": {
      "application/javascript": [
       "\n",
       "            setTimeout(function() {\n",
       "                var nbb_cell_id = 16;\n",
       "                var nbb_unformatted_code = \"def player_choice(board):\\n    \\n    position = 0\\n    \\n    while position not in [1,2,3,4,5,6,7,8,9] and not space_check(board, position):\\n          position = int(input(\\\"Choose your next position (1-9)\\\"))\\n    return position\";\n",
       "                var nbb_formatted_code = \"def player_choice(board):\\n\\n    position = 0\\n\\n    while position not in [1, 2, 3, 4, 5, 6, 7, 8, 9] and not space_check(\\n        board, position\\n    ):\\n        position = int(input(\\\"Choose your next position (1-9)\\\"))\\n    return position\";\n",
       "                var nbb_cells = Jupyter.notebook.get_cells();\n",
       "                for (var i = 0; i < nbb_cells.length; ++i) {\n",
       "                    if (nbb_cells[i].input_prompt_number == nbb_cell_id) {\n",
       "                        if (nbb_cells[i].get_text() == nbb_unformatted_code) {\n",
       "                             nbb_cells[i].set_text(nbb_formatted_code);\n",
       "                        }\n",
       "                        break;\n",
       "                    }\n",
       "                }\n",
       "            }, 500);\n",
       "            "
      ],
      "text/plain": [
       "<IPython.core.display.Javascript object>"
      ]
     },
     "metadata": {},
     "output_type": "display_data"
    }
   ],
   "source": [
    "def player_choice(board):\n",
    "    \n",
    "    position = 0\n",
    "    \n",
    "    while position not in [1,2,3,4,5,6,7,8,9] and not space_check(board, position):\n",
    "          position = int(input(\"Choose your next position (1-9)\"))\n",
    "    return position\n"
   ]
  },
  {
   "cell_type": "markdown",
   "metadata": {},
   "source": [
    "#### Function to check if the player wants to play again."
   ]
  },
  {
   "cell_type": "code",
   "execution_count": 17,
   "metadata": {},
   "outputs": [
    {
     "data": {
      "application/javascript": [
       "\n",
       "            setTimeout(function() {\n",
       "                var nbb_cell_id = 17;\n",
       "                var nbb_unformatted_code = \"def replay():\\n    \\n    return input('Do you want to play again? Y/N: ').lower().startswith('y')\\n    \";\n",
       "                var nbb_formatted_code = \"def replay():\\n\\n    return input(\\\"Do you want to play again? Y/N: \\\").lower().startswith(\\\"y\\\")\";\n",
       "                var nbb_cells = Jupyter.notebook.get_cells();\n",
       "                for (var i = 0; i < nbb_cells.length; ++i) {\n",
       "                    if (nbb_cells[i].input_prompt_number == nbb_cell_id) {\n",
       "                        if (nbb_cells[i].get_text() == nbb_unformatted_code) {\n",
       "                             nbb_cells[i].set_text(nbb_formatted_code);\n",
       "                        }\n",
       "                        break;\n",
       "                    }\n",
       "                }\n",
       "            }, 500);\n",
       "            "
      ],
      "text/plain": [
       "<IPython.core.display.Javascript object>"
      ]
     },
     "metadata": {},
     "output_type": "display_data"
    }
   ],
   "source": [
    "def replay():\n",
    "\n",
    "    return input(\"Do you want to play again? Y/N: \").lower().startswith(\"y\")"
   ]
  },
  {
   "cell_type": "markdown",
   "metadata": {
    "collapsed": true
   },
   "source": [
    "#### Main Script"
   ]
  },
  {
   "cell_type": "code",
   "execution_count": null,
   "metadata": {},
   "outputs": [],
   "source": [
    "game_on = False\n",
    "play_game = \"\"\n",
    "\n",
    "while True:\n",
    "    \n",
    "    print('Welcome to Tic Tac Toe!')\n",
    "       \n",
    "    theboard = [' '] * 10\n",
    "    player1_marker, player2_marker = player_input()\n",
    "    \n",
    "    print(\"Player 1's marker is {}\".format(player1_marker))\n",
    "    print(\"Player 2's marker is {}\".format(player2_marker))\n",
    "    \n",
    "    turn = choose_first()\n",
    "    print(turn + ' goes first')\n",
    "    \n",
    "    while not (play_game == \"y\"  or play_game == \"n\"):\n",
    "        play_game = input('Are you ready to play? Y/N: ')\n",
    "    \n",
    "    if play_game.lower()[0] == 'y':\n",
    "        game_on = True        \n",
    "    elif play_game.lower()[0] == 'n':\n",
    "        print(\"Okay. Good Bye!\")\n",
    "        game_on = False\n",
    "        break\n",
    "    else:\n",
    "        print(\"You entered an invalid option!\")\n",
    "        play_game = replay()\n",
    "        \n",
    "    while game_on:\n",
    "        #Player 1 Turn\n",
    "        if turn == 'Player 1':\n",
    "            display_board(theboard)\n",
    "            position = player_choice(theboard)\n",
    "            print(\"Player 1's marker is {}\".format(player1_marker))\n",
    "            place_marker(theboard, player1_marker, position)\n",
    "                        \n",
    "            if win_check(theboard,player1_marker):\n",
    "                display_board(theboard)\n",
    "                print('Congratulations Player 1! You have won the game.')\n",
    "                game_on = False\n",
    "                break\n",
    "            else:\n",
    "                if full_board_check(theboard):\n",
    "                    display_board(theboard)\n",
    "                    print('The game is a draw.')\n",
    "                    break\n",
    "                else:                    \n",
    "                    turn = 'Player 2'\n",
    "                \n",
    "        else:\n",
    "            display_board(theboard)\n",
    "            position = player_choice(theboard)\n",
    "            print(\"Player 2's marker is {}\".format(player2_marker))\n",
    "            place_marker(theboard, player2_marker, position)\n",
    "            \n",
    "            if win_check(theboard,player2_marker):\n",
    "                display_board(theboard)\n",
    "                print('Congratulations Player 2! You have won the game.')\n",
    "                game_on = False\n",
    "            else:\n",
    "                if full_board_check(theboard):\n",
    "                    display_board(theboard)\n",
    "                    print('The game is a draw.')\n",
    "                    break\n",
    "                else:                    \n",
    "                    turn = 'Player 1'\n",
    "                \n",
    "        \n",
    "#     if not replay():\n",
    "#         break       \n",
    "\n"
   ]
  },
  {
   "cell_type": "code",
   "execution_count": null,
   "metadata": {},
   "outputs": [],
   "source": []
  }
 ],
 "metadata": {
  "kernelspec": {
   "display_name": "tictac",
   "language": "python",
   "name": "tictac"
  },
  "language_info": {
   "codemirror_mode": {
    "name": "ipython",
    "version": 3
   },
   "file_extension": ".py",
   "mimetype": "text/x-python",
   "name": "python",
   "nbconvert_exporter": "python",
   "pygments_lexer": "ipython3",
   "version": "3.7.5"
  }
 },
 "nbformat": 4,
 "nbformat_minor": 1
}
